{
 "cells": [
  {
   "cell_type": "markdown",
   "metadata": {},
   "source": [
    "# Introduction"
   ]
  },
  {
   "cell_type": "markdown",
   "metadata": {},
   "source": [
    "Los Angeles is known as a multicultural city with many ethnic enclaves, and a city with many gourmet restaurants. There are enough number of good restaurants in Los Angeles, and there should be a distinguished strength if a new restaurant is open. Here, we want to open a restaurant, and I can open any types of restaurants including fusion restaurant as well. Where and What restaurant should I open to succeed? Opening a fusion restaurant would be a good idea, and the decision making process should be based on the population density of each ethnic enclaves, the distance to centroids of each ethnic enclaves, and the number of restaurants."
   ]
  },
  {
   "cell_type": "code",
   "execution_count": null,
   "metadata": {},
   "outputs": [],
   "source": []
  }
 ],
 "metadata": {
  "kernelspec": {
   "display_name": "Python",
   "language": "python",
   "name": "conda-env-python-py"
  },
  "language_info": {
   "codemirror_mode": {
    "name": "ipython",
    "version": 3
   },
   "file_extension": ".py",
   "mimetype": "text/x-python",
   "name": "python",
   "nbconvert_exporter": "python",
   "pygments_lexer": "ipython3",
   "version": "3.6.12"
  }
 },
 "nbformat": 4,
 "nbformat_minor": 4
}
