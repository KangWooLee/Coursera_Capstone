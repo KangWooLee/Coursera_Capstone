{
 "cells": [
  {
   "cell_type": "markdown",
   "metadata": {},
   "source": [
    "# Coursera project week3, Problem 1"
   ]
  },
  {
   "cell_type": "code",
   "execution_count": 11,
   "metadata": {},
   "outputs": [
    {
     "name": "stdout",
     "output_type": "stream",
     "text": [
      "    Postal_Code           Borough  \\\n",
      "0           M3A        North York   \n",
      "1           M4A        North York   \n",
      "2           M5A  Downtown Toronto   \n",
      "3           M6A        North York   \n",
      "4           M7A  Downtown Toronto   \n",
      "..          ...               ...   \n",
      "98          M8X         Etobicoke   \n",
      "99          M4Y  Downtown Toronto   \n",
      "100         M7Y      East Toronto   \n",
      "101         M8Y         Etobicoke   \n",
      "102         M8Z         Etobicoke   \n",
      "\n",
      "                                         Neighbourhood  \n",
      "0                                            Parkwoods  \n",
      "1                                     Victoria Village  \n",
      "2                            Regent Park, Harbourfront  \n",
      "3                     Lawrence Manor, Lawrence Heights  \n",
      "4          Queen's Park, Ontario Provincial Government  \n",
      "..                                                 ...  \n",
      "98       The Kingsway, Montgomery Road, Old Mill North  \n",
      "99                                Church and Wellesley  \n",
      "100  Business reply mail Processing Centre, South C...  \n",
      "101  Old Mill South, King's Mill Park, Sunnylea, Hu...  \n",
      "102  Mimico NW, The Queensway West, South of Bloor,...  \n",
      "\n",
      "[103 rows x 3 columns]\n"
     ]
    },
    {
     "data": {
      "text/plain": [
       "(103, 3)"
      ]
     },
     "execution_count": 11,
     "metadata": {},
     "output_type": "execute_result"
    }
   ],
   "source": [
    "import pandas as pd\n",
    "# data were processed in Excel and copied here\n",
    "data = {'Postal_Code':  ['M3A','M4A','M5A','M6A','M7A','M9A','M1B','M3B','M4B','M5B',\n",
    "                         'M6B','M9B','M1C','M3C','M4C','M5C','M6C','M9C','M1E','M4E',\n",
    "                         'M5E','M6E','M1G','M4G','M5G','M6G','M1H','M2H','M3H','M4H',\n",
    "                         'M5H','M6H','M1J','M2J','M3J','M4J','M5J','M6J','M1K','M2K',\n",
    "                         'M3K','M4K','M5K','M6K','M1L','M2L','M3L','M4L','M5L','M6L',\n",
    "                         'M9L','M1M','M2M','M3M','M4M','M5M','M6M','M9M','M1N','M2N',\n",
    "                         'M3N','M4N','M5N','M6N','M9N','M1P','M2P','M4P','M5P','M6P',\n",
    "                         'M9P','M1R','M2R','M4R','M5R','M6R','M7R','M9R','M1S','M4S',\n",
    "                         'M5S','M6S','M1T','M4T','M5T','M1V','M4V','M5V','M8V','M9V',\n",
    "                         'M1W','M4W','M5W','M8W','M9W','M1X','M4X','M5X','M8X','M4Y',\n",
    "                         'M7Y','M8Y','M8Z'],\n",
    "        'Borough': ['North York','North York','Downtown Toronto','North York','Downtown Toronto','Etobicoke','Scarborough','North York','East York','Downtown Toronto',\n",
    "                    'North York','Etobicoke','Scarborough','North York','East York','Downtown Toronto','York','Etobicoke','Scarborough','East Toronto',\n",
    "                    'Downtown Toronto','York','Scarborough','East York','Downtown Toronto','Downtown Toronto','Scarborough','North York','North York','East York',\n",
    "                    'Downtown Toronto','West Toronto','Scarborough','North York','North York','East York','Downtown Toronto','West Toronto','Scarborough','North York',\n",
    "                    'North York','East Toronto','Downtown Toronto','West Toronto','Scarborough','North York','North York','East Toronto','Downtown Toronto','North York',\n",
    "                    'North York','Scarborough','North York','North York','East Toronto','North York','York','North York','Scarborough','North York',\n",
    "                    'North York','Central Toronto','Central Toronto','York','York','Scarborough','North York','Central Toronto','Central Toronto','West Toronto',\n",
    "                    'Etobicoke','Scarborough','North York','Central Toronto','Central Toronto','West Toronto','Mississauga','Etobicoke','Scarborough','Central Toronto',\n",
    "                    'Downtown Toronto','West Toronto','Scarborough','Central Toronto','Downtown Toronto','Scarborough','Central Toronto','Downtown Toronto','Etobicoke','Etobicoke',\n",
    "                    'Scarborough','Downtown Toronto','Downtown Toronto','Etobicoke','Etobicoke','Scarborough','Downtown Toronto','Downtown Toronto','Etobicoke','Downtown Toronto',\n",
    "                    'East Toronto','Etobicoke','Etobicoke'],\n",
    "        'Neighbourhood': ['Parkwoods','Victoria Village',\"Regent Park, Harbourfront\",\"Lawrence Manor, Lawrence Heights\",\"Queen's Park, Ontario Provincial Government\",\"Islington Avenue, Humber Valley Village\",\"Malvern, Rouge\",'Don Mills',\"Parkview Hill, Woodbine Gardens\",\"Garden District, Ryerson\",\n",
    "                          'Glencairn',\"West Deane Park, Princess Gardens, Martin Grove, Islington, Cloverdale\",\"Rouge Hill, Port Union, Highland Creek\",'Don Mills','Woodbine Heights','St. James Town','Humewood-Cedarvale',\"Eringate, Bloordale Gardens, Old Burnhamthorpe, Markland Wood\",\"Guildwood, Morningside, West Hill\",'The Beaches',\n",
    "                          'Berczy Park','Caledonia-Fairbanks','Woburn','Leaside','Central Bay Street','Christie','Cedarbrae','Hillcrest Village',\"Bathurst Manor, Wilson Heights, Downsview North\",'Thorncliffe Park',\n",
    "                          \"Richmond, Adelaide, King\",\"Dufferin, Dovercourt Village\",'Scarborough Village',\"Fairview, Henry Farm, Oriole\",\"Northwood Park, York University\",\"East Toronto, Broadview North (Old East York)\",\"Harbourfront East, Union Station, Toronto Islands\",\"Little Portugal, Trinity\",\"Kennedy Park, Ionview, East Birchmount Park\",'Bayview Village',\n",
    "                          'Downsview',\"The Danforth West, Riverdale\",\"Toronto Dominion Centre, Design Exchange\",\"Brockton, Parkdale Village, Exhibition Place\",\"Golden Mile, Clairlea, Oakridge\",\"York Mills, Silver Hills\",'Downsview',\"India Bazaar, The Beaches West\",\"Commerce Court, Victoria Hotel\",\"North Park, Maple Leaf Park, Upwood Park\",\n",
    "                          'Humber Summit',\"Cliffside, Cliffcrest, Scarborough Village West\",\"Willowdale, Newtonbrook\",'Downsview','Studio District',\"Bedford Park, Lawrence Manor East\",\"Del Ray, Mount Dennis, Keelsdale and Silverthorn\",\"Humberlea, Emery\",\"Birch Cliff, Cliffside West\",\"Willowdale, Willowdale East\",'Downsview','Lawrence Park',\n",
    "                          'Roselawn',\"Runnymede, The Junction North\",'Weston',\"Dorset Park, Wexford Heights, Scarborough Town Centre\",'York Mills West','Davisville North',\"Forest Hill North & West, Forest Hill Road Park\",\"High Park, The Junction South\",'Westmount',\"Wexford, Maryvale\",\n",
    "                          \"Willowdale, Willowdale West\",\"North Toronto West, Lawrence Park\",\"The Annex, North Midtown, Yorkville\",\"Parkdale, Roncesvalles\",'Canada Post Gateway Processing Centre',\"Kingsview Village, St. Phillips, Martin Grove Gardens, Richview Gardens\",'Agincourt','Davisville',\"University of Toronto, Harbord\",\n",
    "                          \"Runnymede, Swansea\",\"Clarks Corners, Tam O'Shanter, Sullivan\",\"Moore Park, Summerhill East\",\"Kensington Market, Chinatown, Grange Park\",\"Milliken, Agincourt North, Steeles East, L'Amoreaux East\",\"Summerhill West, Rathnelly, South Hill, Forest Hill SE, Deer Park\",\"CN Tower, King and Spadina, Railway Lands, Harbourfront West, Bathurst Quay, South Niagara, Island airport\",\"New Toronto, Mimico South, Humber Bay Shores\",\"South Steeles, Silverstone, Humbergate, Jamestown, Mount Olive, Beaumond Heights, Thistletown, Albion Gardens\",\"Steeles West, L'Amoreaux West\",\n",
    "                          'Rosedale','Stn A PO Boxes',\"Alderwood, Long Branch\",\"Northwest, West Humber - Clairville\",'Upper Rouge',\"St. James Town, Cabbagetown\",\"First Canadian Place, Underground city\",\"The Kingsway, Montgomery Road, Old Mill North\",'Church and Wellesley',\"Business reply mail Processing Centre, South Central Letter Processing Plant Toronto\",\n",
    "                          \"Old Mill South, King's Mill Park, Sunnylea, Humber Bay, Mimico NE, The Queensway East, Royal York South East, Kingsway Park South East\",\"Mimico NW, The Queensway West, South of Bloor, Kingsway Park South West, Royal York South West\"\n",
    "]\n",
    "        }\n",
    "\n",
    "df = pd.DataFrame (data, columns = ['Postal_Code','Borough','Neighbourhood'])\n",
    "\n",
    "print (df)\n",
    "df.shape"
   ]
  },
  {
   "cell_type": "code",
   "execution_count": null,
   "metadata": {},
   "outputs": [],
   "source": []
  }
 ],
 "metadata": {
  "kernelspec": {
   "display_name": "Python",
   "language": "python",
   "name": "conda-env-python-py"
  },
  "language_info": {
   "codemirror_mode": {
    "name": "ipython",
    "version": 3
   },
   "file_extension": ".py",
   "mimetype": "text/x-python",
   "name": "python",
   "nbconvert_exporter": "python",
   "pygments_lexer": "ipython3",
   "version": "3.6.12"
  }
 },
 "nbformat": 4,
 "nbformat_minor": 4
}
